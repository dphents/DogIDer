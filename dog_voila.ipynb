{
  "nbformat": 4,
  "nbformat_minor": 0,
  "metadata": {
    "colab": {
      "name": "dog voila.ipynb",
      "provenance": [],
      "collapsed_sections": [],
      "authorship_tag": "ABX9TyMuuk/tz2tTGZ/+nH9wwZs/",
      "include_colab_link": true
    },
    "kernelspec": {
      "name": "python3",
      "display_name": "Python 3"
    },
    "widgets": {
      "application/vnd.jupyter.widget-state+json": {
        "b86389a9570a475295baf63e4eb9fa0d": {
          "model_module": "@jupyter-widgets/controls",
          "model_name": "VBoxModel",
          "state": {
            "_view_name": "VBoxView",
            "_dom_classes": [],
            "_model_name": "VBoxModel",
            "_view_module": "@jupyter-widgets/controls",
            "_model_module_version": "1.5.0",
            "_view_count": null,
            "_view_module_version": "1.5.0",
            "box_style": "",
            "layout": "IPY_MODEL_f5378d1548564e12a1707ce9ef838a04",
            "_model_module": "@jupyter-widgets/controls",
            "children": [
              "IPY_MODEL_1f9af474b59d48c78ebbb08dcb55d257",
              "IPY_MODEL_a28afa74d81547c2b8ca672f30da4862",
              "IPY_MODEL_abf652967f964d949493fca624490b8c",
              "IPY_MODEL_e3ac13cfdc32417d969489a53be24dee"
            ]
          }
        },
        "f5378d1548564e12a1707ce9ef838a04": {
          "model_module": "@jupyter-widgets/base",
          "model_name": "LayoutModel",
          "state": {
            "_view_name": "LayoutView",
            "grid_template_rows": null,
            "right": null,
            "justify_content": null,
            "_view_module": "@jupyter-widgets/base",
            "overflow": null,
            "_model_module_version": "1.2.0",
            "_view_count": null,
            "flex_flow": null,
            "width": null,
            "min_width": null,
            "border": null,
            "align_items": null,
            "bottom": null,
            "_model_module": "@jupyter-widgets/base",
            "top": null,
            "grid_column": null,
            "overflow_y": null,
            "overflow_x": null,
            "grid_auto_flow": null,
            "grid_area": null,
            "grid_template_columns": null,
            "flex": null,
            "_model_name": "LayoutModel",
            "justify_items": null,
            "grid_row": null,
            "max_height": null,
            "align_content": null,
            "visibility": null,
            "align_self": null,
            "height": null,
            "min_height": null,
            "padding": null,
            "grid_auto_rows": null,
            "grid_gap": null,
            "max_width": null,
            "order": null,
            "_view_module_version": "1.2.0",
            "grid_template_areas": null,
            "object_position": null,
            "object_fit": null,
            "grid_auto_columns": null,
            "margin": null,
            "display": null,
            "left": null
          }
        },
        "1f9af474b59d48c78ebbb08dcb55d257": {
          "model_module": "@jupyter-widgets/controls",
          "model_name": "LabelModel",
          "state": {
            "_view_name": "LabelView",
            "style": "IPY_MODEL_04b2304f3247498ba03242e21efa754a",
            "_dom_classes": [],
            "description": "",
            "_model_name": "LabelModel",
            "placeholder": "​",
            "_view_module": "@jupyter-widgets/controls",
            "_model_module_version": "1.5.0",
            "value": "Select your dog!",
            "_view_count": null,
            "_view_module_version": "1.5.0",
            "description_tooltip": null,
            "_model_module": "@jupyter-widgets/controls",
            "layout": "IPY_MODEL_abbce77ff5d34369af62444389794406"
          }
        },
        "a28afa74d81547c2b8ca672f30da4862": {
          "model_module": "@jupyter-widgets/controls",
          "model_name": "FileUploadModel",
          "state": {
            "_view_name": "FileUploadView",
            "_counter": 3,
            "style": "IPY_MODEL_0636d5245d524cad98c4153333e74ed0",
            "_dom_classes": [],
            "description": "Upload",
            "multiple": false,
            "_model_name": "FileUploadModel",
            "data": [
              null
            ],
            "button_style": "",
            "_view_module": "@jupyter-widgets/controls",
            "_model_module_version": "1.5.0",
            "accept": "",
            "_view_count": null,
            "disabled": false,
            "_view_module_version": "1.5.0",
            "error": "",
            "description_tooltip": null,
            "metadata": [
              {
                "name": "samoyed-card-small (1).jpg",
                "type": "image/jpeg",
                "size": 46986,
                "lastModified": 1600261514373
              }
            ],
            "_model_module": "@jupyter-widgets/controls",
            "layout": "IPY_MODEL_f62db04da98c4a3f9fea58e1b494e5ba",
            "icon": "upload"
          }
        },
        "abf652967f964d949493fca624490b8c": {
          "model_module": "@jupyter-widgets/output",
          "model_name": "OutputModel",
          "state": {
            "_view_name": "OutputView",
            "msg_id": "",
            "_dom_classes": [],
            "_model_name": "OutputModel",
            "outputs": [
              {
                "output_type": "display_data",
                "metadata": {
                  "tags": []
                },
                "image/png": "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\n",
                "text/plain": "<PIL.Image.Image image mode=RGB size=128x52 at 0x7F58B42DCB70>"
              }
            ],
            "_view_module": "@jupyter-widgets/output",
            "_model_module_version": "1.0.0",
            "_view_count": null,
            "_view_module_version": "1.0.0",
            "layout": "IPY_MODEL_278ec4fa94cc427a8b117c7336a5ec47",
            "_model_module": "@jupyter-widgets/output"
          }
        },
        "e3ac13cfdc32417d969489a53be24dee": {
          "model_module": "@jupyter-widgets/controls",
          "model_name": "LabelModel",
          "state": {
            "_view_name": "LabelView",
            "style": "IPY_MODEL_1b50d1fc507b48f581744a398e61ceb5",
            "_dom_classes": [],
            "description": "",
            "_model_name": "LabelModel",
            "placeholder": "​",
            "_view_module": "@jupyter-widgets/controls",
            "_model_module_version": "1.5.0",
            "value": "Prediction: Samoyed; Probability: 0.9470",
            "_view_count": null,
            "_view_module_version": "1.5.0",
            "description_tooltip": null,
            "_model_module": "@jupyter-widgets/controls",
            "layout": "IPY_MODEL_f89e95e0946e4dba8bf41042ef10b810"
          }
        },
        "04b2304f3247498ba03242e21efa754a": {
          "model_module": "@jupyter-widgets/controls",
          "model_name": "DescriptionStyleModel",
          "state": {
            "_view_name": "StyleView",
            "_model_name": "DescriptionStyleModel",
            "description_width": "",
            "_view_module": "@jupyter-widgets/base",
            "_model_module_version": "1.5.0",
            "_view_count": null,
            "_view_module_version": "1.2.0",
            "_model_module": "@jupyter-widgets/controls"
          }
        },
        "abbce77ff5d34369af62444389794406": {
          "model_module": "@jupyter-widgets/base",
          "model_name": "LayoutModel",
          "state": {
            "_view_name": "LayoutView",
            "grid_template_rows": null,
            "right": null,
            "justify_content": null,
            "_view_module": "@jupyter-widgets/base",
            "overflow": null,
            "_model_module_version": "1.2.0",
            "_view_count": null,
            "flex_flow": null,
            "width": null,
            "min_width": null,
            "border": null,
            "align_items": null,
            "bottom": null,
            "_model_module": "@jupyter-widgets/base",
            "top": null,
            "grid_column": null,
            "overflow_y": null,
            "overflow_x": null,
            "grid_auto_flow": null,
            "grid_area": null,
            "grid_template_columns": null,
            "flex": null,
            "_model_name": "LayoutModel",
            "justify_items": null,
            "grid_row": null,
            "max_height": null,
            "align_content": null,
            "visibility": null,
            "align_self": null,
            "height": null,
            "min_height": null,
            "padding": null,
            "grid_auto_rows": null,
            "grid_gap": null,
            "max_width": null,
            "order": null,
            "_view_module_version": "1.2.0",
            "grid_template_areas": null,
            "object_position": null,
            "object_fit": null,
            "grid_auto_columns": null,
            "margin": null,
            "display": null,
            "left": null
          }
        },
        "0636d5245d524cad98c4153333e74ed0": {
          "model_module": "@jupyter-widgets/controls",
          "model_name": "ButtonStyleModel",
          "state": {
            "_view_name": "StyleView",
            "_model_name": "ButtonStyleModel",
            "_view_module": "@jupyter-widgets/base",
            "_model_module_version": "1.5.0",
            "_view_count": null,
            "button_color": null,
            "font_weight": "",
            "_view_module_version": "1.2.0",
            "_model_module": "@jupyter-widgets/controls"
          }
        },
        "f62db04da98c4a3f9fea58e1b494e5ba": {
          "model_module": "@jupyter-widgets/base",
          "model_name": "LayoutModel",
          "state": {
            "_view_name": "LayoutView",
            "grid_template_rows": null,
            "right": null,
            "justify_content": null,
            "_view_module": "@jupyter-widgets/base",
            "overflow": null,
            "_model_module_version": "1.2.0",
            "_view_count": null,
            "flex_flow": null,
            "width": null,
            "min_width": null,
            "border": null,
            "align_items": null,
            "bottom": null,
            "_model_module": "@jupyter-widgets/base",
            "top": null,
            "grid_column": null,
            "overflow_y": null,
            "overflow_x": null,
            "grid_auto_flow": null,
            "grid_area": null,
            "grid_template_columns": null,
            "flex": null,
            "_model_name": "LayoutModel",
            "justify_items": null,
            "grid_row": null,
            "max_height": null,
            "align_content": null,
            "visibility": null,
            "align_self": null,
            "height": null,
            "min_height": null,
            "padding": null,
            "grid_auto_rows": null,
            "grid_gap": null,
            "max_width": null,
            "order": null,
            "_view_module_version": "1.2.0",
            "grid_template_areas": null,
            "object_position": null,
            "object_fit": null,
            "grid_auto_columns": null,
            "margin": null,
            "display": null,
            "left": null
          }
        },
        "1b50d1fc507b48f581744a398e61ceb5": {
          "model_module": "@jupyter-widgets/controls",
          "model_name": "DescriptionStyleModel",
          "state": {
            "_view_name": "StyleView",
            "_model_name": "DescriptionStyleModel",
            "description_width": "",
            "_view_module": "@jupyter-widgets/base",
            "_model_module_version": "1.5.0",
            "_view_count": null,
            "_view_module_version": "1.2.0",
            "_model_module": "@jupyter-widgets/controls"
          }
        },
        "f89e95e0946e4dba8bf41042ef10b810": {
          "model_module": "@jupyter-widgets/base",
          "model_name": "LayoutModel",
          "state": {
            "_view_name": "LayoutView",
            "grid_template_rows": null,
            "right": null,
            "justify_content": null,
            "_view_module": "@jupyter-widgets/base",
            "overflow": null,
            "_model_module_version": "1.2.0",
            "_view_count": null,
            "flex_flow": null,
            "width": null,
            "min_width": null,
            "border": null,
            "align_items": null,
            "bottom": null,
            "_model_module": "@jupyter-widgets/base",
            "top": null,
            "grid_column": null,
            "overflow_y": null,
            "overflow_x": null,
            "grid_auto_flow": null,
            "grid_area": null,
            "grid_template_columns": null,
            "flex": null,
            "_model_name": "LayoutModel",
            "justify_items": null,
            "grid_row": null,
            "max_height": null,
            "align_content": null,
            "visibility": null,
            "align_self": null,
            "height": null,
            "min_height": null,
            "padding": null,
            "grid_auto_rows": null,
            "grid_gap": null,
            "max_width": null,
            "order": null,
            "_view_module_version": "1.2.0",
            "grid_template_areas": null,
            "object_position": null,
            "object_fit": null,
            "grid_auto_columns": null,
            "margin": null,
            "display": null,
            "left": null
          }
        },
        "278ec4fa94cc427a8b117c7336a5ec47": {
          "model_module": "@jupyter-widgets/base",
          "model_name": "LayoutModel",
          "state": {
            "_view_name": "LayoutView",
            "grid_template_rows": null,
            "right": null,
            "justify_content": null,
            "_view_module": "@jupyter-widgets/base",
            "overflow": null,
            "_model_module_version": "1.2.0",
            "_view_count": null,
            "flex_flow": null,
            "width": null,
            "min_width": null,
            "border": null,
            "align_items": null,
            "bottom": null,
            "_model_module": "@jupyter-widgets/base",
            "top": null,
            "grid_column": null,
            "overflow_y": null,
            "overflow_x": null,
            "grid_auto_flow": null,
            "grid_area": null,
            "grid_template_columns": null,
            "flex": null,
            "_model_name": "LayoutModel",
            "justify_items": null,
            "grid_row": null,
            "max_height": null,
            "align_content": null,
            "visibility": null,
            "align_self": null,
            "height": null,
            "min_height": null,
            "padding": null,
            "grid_auto_rows": null,
            "grid_gap": null,
            "max_width": null,
            "order": null,
            "_view_module_version": "1.2.0",
            "grid_template_areas": null,
            "object_position": null,
            "object_fit": null,
            "grid_auto_columns": null,
            "margin": null,
            "display": null,
            "left": null
          }
        }
      }
    }
  },
  "cells": [
    {
      "cell_type": "markdown",
      "metadata": {
        "id": "view-in-github",
        "colab_type": "text"
      },
      "source": [
        "<a href=\"https://colab.research.google.com/github/dphents/DogIDer/blob/master/dog_voila.ipynb\" target=\"_parent\"><img src=\"https://colab.research.google.com/assets/colab-badge.svg\" alt=\"Open In Colab\"/></a>"
      ]
    },
    {
      "cell_type": "code",
      "metadata": {
        "id": "NKhSBXk-X5_d",
        "colab_type": "code",
        "colab": {
          "base_uri": "https://localhost:8080/",
          "height": 316
        },
        "outputId": "5a77ada1-77d8-4238-d6c9-7258da5d9386"
      },
      "source": [
        "from fastai.vision.all import *\n",
        "from fastai.vision.widgets import *"
      ],
      "execution_count": null,
      "outputs": [
        {
          "output_type": "error",
          "ename": "ModuleNotFoundError",
          "evalue": "ignored",
          "traceback": [
            "\u001b[0;31m---------------------------------------------------------------------------\u001b[0m",
            "\u001b[0;31mModuleNotFoundError\u001b[0m                       Traceback (most recent call last)",
            "\u001b[0;32m<ipython-input-1-d2d29be66561>\u001b[0m in \u001b[0;36m<module>\u001b[0;34m()\u001b[0m\n\u001b[0;32m----> 1\u001b[0;31m \u001b[0;32mfrom\u001b[0m \u001b[0mfastai\u001b[0m\u001b[0;34m.\u001b[0m\u001b[0mvision\u001b[0m\u001b[0;34m.\u001b[0m\u001b[0mall\u001b[0m \u001b[0;32mimport\u001b[0m \u001b[0;34m*\u001b[0m\u001b[0;34m\u001b[0m\u001b[0;34m\u001b[0m\u001b[0m\n\u001b[0m\u001b[1;32m      2\u001b[0m \u001b[0;32mfrom\u001b[0m \u001b[0mfastai\u001b[0m\u001b[0;34m.\u001b[0m\u001b[0mvision\u001b[0m\u001b[0;34m.\u001b[0m\u001b[0mwidgets\u001b[0m \u001b[0;32mimport\u001b[0m \u001b[0;34m*\u001b[0m\u001b[0;34m\u001b[0m\u001b[0;34m\u001b[0m\u001b[0m\n",
            "\u001b[0;31mModuleNotFoundError\u001b[0m: No module named 'fastai.vision.all'",
            "",
            "\u001b[0;31m---------------------------------------------------------------------------\u001b[0;32m\nNOTE: If your import is failing due to a missing package, you can\nmanually install dependencies using either !pip or !apt.\n\nTo view examples of installing some common dependencies, click the\n\"Open Examples\" button below.\n\u001b[0;31m---------------------------------------------------------------------------\u001b[0m\n"
          ]
        }
      ]
    },
    {
      "cell_type": "code",
      "metadata": {
        "id": "W4-Vb3BGYMY6",
        "colab_type": "code",
        "colab": {}
      },
      "source": [
        "path = Path()\n",
        "learn_inf = load_learner(path/'Dan.pkl', cpu=True)\n",
        "btn_upload = widgets.FileUpload()\n",
        "out_pl = widgets.Output()\n",
        "lbl_pred = widgets.Label()"
      ],
      "execution_count": null,
      "outputs": []
    },
    {
      "cell_type": "code",
      "metadata": {
        "id": "qLL5Z7S0bAGV",
        "colab_type": "code",
        "colab": {}
      },
      "source": [
        "\n",
        "def on_data_change(change):\n",
        "    lbl_pred.value = ''\n",
        "    img = PILImage.create(btn_upload.data[-1])\n",
        "    out_pl.clear_output()\n",
        "    with out_pl: display(img.to_thumb(128,128))\n",
        "    pred,pred_idx,probs = learn_inf.predict(img)\n",
        "    lbl_pred.value = f'Prediction: {pred}; Probability: {probs[pred_idx]:.04f}'"
      ],
      "execution_count": null,
      "outputs": []
    },
    {
      "cell_type": "code",
      "metadata": {
        "id": "7yT4ez0_cF22",
        "colab_type": "code",
        "colab": {}
      },
      "source": [
        "\n",
        "btn_upload.observe(on_data_change, names=['data'])"
      ],
      "execution_count": null,
      "outputs": []
    },
    {
      "cell_type": "code",
      "metadata": {
        "id": "WkUlpdgqcGSH",
        "colab_type": "code",
        "colab": {
          "base_uri": "https://localhost:8080/",
          "height": 165,
          "referenced_widgets": [
            "b86389a9570a475295baf63e4eb9fa0d",
            "f5378d1548564e12a1707ce9ef838a04",
            "1f9af474b59d48c78ebbb08dcb55d257",
            "a28afa74d81547c2b8ca672f30da4862",
            "abf652967f964d949493fca624490b8c",
            "e3ac13cfdc32417d969489a53be24dee",
            "04b2304f3247498ba03242e21efa754a",
            "abbce77ff5d34369af62444389794406",
            "0636d5245d524cad98c4153333e74ed0",
            "f62db04da98c4a3f9fea58e1b494e5ba",
            "1b50d1fc507b48f581744a398e61ceb5",
            "f89e95e0946e4dba8bf41042ef10b810",
            "278ec4fa94cc427a8b117c7336a5ec47"
          ]
        },
        "outputId": "0c22d8e6-b51e-4f72-b27e-edbebcbfbf11"
      },
      "source": [
        "\n",
        "display(VBox([widgets.Label('Select your dog!'), btn_upload, out_pl, lbl_pred]))"
      ],
      "execution_count": null,
      "outputs": [
        {
          "output_type": "display_data",
          "data": {
            "application/vnd.jupyter.widget-view+json": {
              "model_id": "b86389a9570a475295baf63e4eb9fa0d",
              "version_minor": 0,
              "version_major": 2
            },
            "text/plain": [
              "VBox(children=(Label(value='Select your dog!'), FileUpload(value={}, description='Upload'), Output(), Label(va…"
            ]
          },
          "metadata": {
            "tags": []
          }
        },
        {
          "output_type": "display_data",
          "data": {
            "text/html": [
              ""
            ],
            "text/plain": [
              "<IPython.core.display.HTML object>"
            ]
          },
          "metadata": {
            "tags": []
          }
        },
        {
          "output_type": "display_data",
          "data": {
            "text/html": [
              ""
            ],
            "text/plain": [
              "<IPython.core.display.HTML object>"
            ]
          },
          "metadata": {
            "tags": []
          }
        },
        {
          "output_type": "display_data",
          "data": {
            "text/html": [
              ""
            ],
            "text/plain": [
              "<IPython.core.display.HTML object>"
            ]
          },
          "metadata": {
            "tags": []
          }
        }
      ]
    }
  ]
}